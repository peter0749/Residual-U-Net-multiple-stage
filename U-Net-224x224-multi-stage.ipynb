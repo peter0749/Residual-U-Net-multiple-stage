{
 "cells": [
  {
   "cell_type": "markdown",
   "metadata": {
    "_cell_guid": "e61ef2d8-f315-4f7f-b07e-1de0f4e8441a",
    "_uuid": "1677fddbb95f7545b6540e9201f3339a0fdbfc5d"
   },
   "source": [
    "# Intro\n",
    "Hello! This rather quick and dirty kernel shows how to get started on segmenting nuclei using a neural network in Keras. \n",
    "\n",
    "The architecture used is the so-called [U-Net](https://arxiv.org/abs/1505.04597), which is very common for image segmentation problems such as this. I believe they also have a tendency to work quite well even on small datasets.\n",
    "\n",
    "Let's get started importing everything we need!"
   ]
  },
  {
   "cell_type": "code",
   "execution_count": 1,
   "metadata": {
    "_cell_guid": "c332549b-8d23-4bb5-8497-e7a8eb8b21d2",
    "_uuid": "5c38504af3a84bee68c66d3cde74443c58df422f"
   },
   "outputs": [
    {
     "name": "stderr",
     "output_type": "stream",
     "text": [
      "/home/peter/virtual_envs/tf_keras/lib/python3.5/site-packages/h5py/__init__.py:36: FutureWarning: Conversion of the second argument of issubdtype from `float` to `np.floating` is deprecated. In future, it will be treated as `np.float64 == np.dtype(float).type`.\n",
      "  from ._conv import register_converters as _register_converters\n",
      "Using TensorFlow backend.\n"
     ]
    }
   ],
   "source": [
    "import os\n",
    "import sys\n",
    "import random\n",
    "import warnings\n",
    "\n",
    "import numpy as np\n",
    "import pandas as pd\n",
    "\n",
    "import matplotlib.pyplot as plt\n",
    "\n",
    "from tqdm import tqdm\n",
    "from itertools import chain\n",
    "from skimage.io import imread, imshow, imread_collection, concatenate_images\n",
    "from skimage.transform import resize\n",
    "from skimage.morphology import label\n",
    "\n",
    "from keras.models import Model, load_model\n",
    "from keras.layers import Input\n",
    "from keras.layers.core import Dropout, Lambda\n",
    "from keras.layers.convolutional import Conv2D, Conv2DTranspose\n",
    "from keras.layers.pooling import MaxPooling2D\n",
    "from keras.layers.merge import concatenate\n",
    "from keras.callbacks import EarlyStopping, ModelCheckpoint\n",
    "from keras import backend as K\n",
    "\n",
    "import tensorflow as tf\n",
    "\n",
    "# Set some parameters\n",
    "IMG_WIDTH = 224\n",
    "IMG_HEIGHT = 224\n",
    "IMG_CHANNELS = 3\n",
    "TRAIN_PATH = './input/stage1_train/'\n",
    "TEST_PATH = './input/stage1_test/'\n",
    "\n",
    "warnings.filterwarnings('ignore', category=UserWarning, module='skimage')\n",
    "seed = 42\n",
    "random.seed = seed\n",
    "np.random.seed = seed"
   ]
  },
  {
   "cell_type": "code",
   "execution_count": null,
   "metadata": {
    "_cell_guid": "ffa0caf0-2d1b-40f2-865b-8e6db88526b6",
    "_uuid": "3fb9d6530fbbd0e22e41fc4fd9fd9fc0bff027ac"
   },
   "outputs": [],
   "source": [
    "# Get train and test IDs\n",
    "train_ids = next(os.walk(TRAIN_PATH))[1]\n",
    "test_ids = next(os.walk(TEST_PATH))[1]"
   ]
  },
  {
   "cell_type": "markdown",
   "metadata": {
    "_cell_guid": "59c4a25d-645f-4b74-9c53-145ac78cc481",
    "_uuid": "875af74f980236825de3a650825b46e25632422c"
   },
   "source": [
    "# Get the data\n",
    "Let's first import all the images and associated masks. I downsample both the training and test images to keep things light and manageable, but we need to keep a record of the original sizes of the test images to upsample our predicted masks and create correct run-length encodings later on. There are definitely better ways to handle this, but it works fine for now!"
   ]
  },
  {
   "cell_type": "code",
   "execution_count": null,
   "metadata": {
    "_cell_guid": "ca0cc34b-c26f-41ee-88d7-975aebdb634e",
    "_uuid": "9e389ba8bdb5b6fc03b231b6a6c84a8bde634053"
   },
   "outputs": [
    {
     "name": "stdout",
     "output_type": "stream",
     "text": [
      "Getting and resizing train images and masks ... \n"
     ]
    },
    {
     "name": "stderr",
     "output_type": "stream",
     "text": [
      " 60%|██████    | 404/670 [04:02<03:02,  1.45it/s]"
     ]
    }
   ],
   "source": [
    "# Get and resize train images and masks\n",
    "X_train = np.zeros((len(train_ids), IMG_HEIGHT, IMG_WIDTH, IMG_CHANNELS), dtype=np.uint8)\n",
    "Y_train = np.zeros((len(train_ids), IMG_HEIGHT, IMG_WIDTH, 1), dtype=np.bool)\n",
    "print('Getting and resizing train images and masks ... ')\n",
    "sys.stdout.flush()\n",
    "for n, id_ in tqdm(enumerate(train_ids), total=len(train_ids)):\n",
    "    path = TRAIN_PATH + id_\n",
    "    img = imread(path + '/images/' + id_ + '.png')[:,:,:IMG_CHANNELS]\n",
    "    img = resize(img, (IMG_HEIGHT, IMG_WIDTH), mode='constant', preserve_range=True)\n",
    "    X_train[n] = img\n",
    "    mask = np.zeros((IMG_HEIGHT, IMG_WIDTH, 1), dtype=np.bool)\n",
    "    for mask_file in next(os.walk(path + '/masks/'))[2]:\n",
    "        mask_ = imread(path + '/masks/' + mask_file)\n",
    "        mask_ = np.expand_dims(resize(mask_, (IMG_HEIGHT, IMG_WIDTH), mode='constant', \n",
    "                                      preserve_range=True), axis=-1)\n",
    "        mask = np.maximum(mask, mask_)\n",
    "    Y_train[n] = mask\n",
    "\n",
    "# Get and resize test images\n",
    "X_test = np.zeros((len(test_ids), IMG_HEIGHT, IMG_WIDTH, IMG_CHANNELS), dtype=np.uint8)\n",
    "sizes_test = []\n",
    "print('Getting and resizing test images ... ')\n",
    "sys.stdout.flush()\n",
    "for n, id_ in tqdm(enumerate(test_ids), total=len(test_ids)):\n",
    "    path = TEST_PATH + id_\n",
    "    img = imread(path + '/images/' + id_ + '.png')[:,:,:IMG_CHANNELS]\n",
    "    sizes_test.append([img.shape[0], img.shape[1]])\n",
    "    img = resize(img, (IMG_HEIGHT, IMG_WIDTH), mode='constant', preserve_range=True)\n",
    "    X_test[n] = img\n",
    "\n",
    "print('Done!')"
   ]
  },
  {
   "cell_type": "markdown",
   "metadata": {
    "_cell_guid": "c0523b03-1fc5-4505-a1b8-eb35ee617c8a",
    "_uuid": "d4f8327802a1ec6139ce0585953986272ba62ce1"
   },
   "source": [
    "Let's see if things look all right by drawing some random images and their associated masks."
   ]
  },
  {
   "cell_type": "code",
   "execution_count": null,
   "metadata": {
    "_cell_guid": "88829b53-50ce-45d9-9540-77dd7384ad4c",
    "_uuid": "283af26f0860b7069bdfd133c746e5d20971542c"
   },
   "outputs": [],
   "source": [
    "# Check if training data looks all right\n",
    "ix = random.randint(0, len(train_ids))\n",
    "plt.imshow(X_train[ix])\n",
    "plt.show()\n",
    "plt.imshow(np.squeeze(Y_train[ix]))\n",
    "plt.show()"
   ]
  },
  {
   "cell_type": "markdown",
   "metadata": {
    "_cell_guid": "2574ffe9-b911-4bfd-a00f-9ba5c25f45de",
    "_uuid": "938648da705689a0f940ff462477c801db3f0737"
   },
   "source": [
    "Seems good!\n",
    "\n",
    "# Create our Keras metric\n",
    "\n",
    "Now we try to define the *mean average precision at different intersection over union (IoU) thresholds* metric in Keras. TensorFlow has a mean IoU metric, but it doesn't have any native support for the mean over multiple thresholds, so I tried to implement this. **I'm by no means certain that this implementation is correct, though!** Any assistance in verifying this would be most welcome! \n",
    "\n",
    "*Update: This implementation is most definitely not correct due to the very large discrepancy between the results reported here and the LB results. It also seems to just increase over time no matter what when you train ... *"
   ]
  },
  {
   "cell_type": "code",
   "execution_count": null,
   "metadata": {
    "_cell_guid": "c1df6f3a-d58f-434b-9216-ef7be38637d4",
    "_uuid": "5abd38950ae99b60f8afec7656eb654a48d449fe"
   },
   "outputs": [],
   "source": [
    "# Define IoU metric\n",
    "def mean_iou(y_true, y_pred):\n",
    "    prec = []\n",
    "    for t in np.arange(0.5, 1.0, 0.1):\n",
    "        y_pred_ = tf.to_int32(y_pred > t)\n",
    "        score, up_opt = tf.metrics.mean_iou(y_true, y_pred_, 2)\n",
    "        K.get_session().run(tf.local_variables_initializer())\n",
    "        with tf.control_dependencies([up_opt]):\n",
    "            score = tf.identity(score)\n",
    "        prec.append(score)\n",
    "    return K.mean(K.stack(prec), axis=0)"
   ]
  },
  {
   "cell_type": "markdown",
   "metadata": {
    "_cell_guid": "c3b9f148-1dba-4b6a-981b-6cdbf394fc3c",
    "_uuid": "986488a4c5223576be370e224426a30431911eb2"
   },
   "source": [
    "# Build and train our neural network\n",
    "Next we build our U-Net model, loosely based on [U-Net: Convolutional Networks for Biomedical Image Segmentation](https://arxiv.org/pdf/1505.04597.pdf) and very similar to [this repo](https://github.com/jocicmarko/ultrasound-nerve-segmentation) from the Kaggle Ultrasound Nerve Segmentation competition.\n",
    "\n",
    "![](https://lmb.informatik.uni-freiburg.de/people/ronneber/u-net/u-net-architecture.png)"
   ]
  },
  {
   "cell_type": "code",
   "execution_count": null,
   "metadata": {
    "_cell_guid": "c1dbc57c-b497-4ccb-b077-2053203ab7ed",
    "_uuid": "0aa97d66c29f45dfac9b0f45fcf74ba0e778ba5d"
   },
   "outputs": [],
   "source": [
    "from keras.layers import Lambda, Add, Activation, UpSampling2D, Dropout\n",
    "\n",
    "def build_stage(inputs, last=None, id_='st1'):\n",
    "    def conv(f, k=3, act='elu'):\n",
    "        return Conv2D(f, (k, k), activation=act, kernel_initializer='he_normal', padding='same')\n",
    "    def _incept_conv(inputs, f, dropout=0, chs=[0.15, 0.5, 0.25, 0.1]):\n",
    "        fs = [] # determine channel number\n",
    "        for k in chs:\n",
    "            t = max(int(k*f), 1) # at least 1 channel\n",
    "            fs.append(t)\n",
    "        \n",
    "        fs[1] += f-np.sum(fs) # reminding channels allocate to 3x3 conv\n",
    "        \n",
    "        c1x1 = conv(fs[0], 1, act='linear') (inputs)\n",
    "        c3x3 = conv(max(1, fs[1]//2), 1, act='elu') (inputs)\n",
    "        c5x5 = conv(max(1, fs[2]//2), 1, act='elu') (inputs)\n",
    "        cpool= MaxPooling2D(pool_size=(3, 3), strides=(1, 1), padding='same') (inputs)\n",
    "        \n",
    "        c3x3 = conv(fs[1], 3, act='linear') (c3x3)\n",
    "        c5x5 = conv(fs[2], 5, act='linear') (c5x5)\n",
    "        cpool= conv(fs[3], 1, act='linear') (cpool)\n",
    "        \n",
    "        output = concatenate([c1x1, c3x3, c5x5, cpool], axis=-1)\n",
    "        if dropout>0:\n",
    "            output = Dropout(dropout) (output)\n",
    "        return output\n",
    "    \n",
    "    def _res_conv(inputs, f, k=3, dropout=0.1): # very simple residual module\n",
    "        channels = int(inputs.shape[-1])\n",
    "        \n",
    "        cs = _incept_conv(inputs, f, dropout=dropout)\n",
    "        \n",
    "        if f!=channels:\n",
    "            t1 = conv(f, 1, 'linear') (inputs) # identity mapping\n",
    "        else:\n",
    "            t1 = inputs\n",
    "        \n",
    "        out = Add()([t1, cs]) # t1 + c2\n",
    "        out = Activation('elu') (out)\n",
    "        return out\n",
    "    def pool():\n",
    "        return MaxPooling2D((2, 2))\n",
    "    def up():\n",
    "        return UpSampling2D()\n",
    "    \n",
    "    if last is None:\n",
    "        c1 = Lambda(lambda x: x / 255) (inputs) # 1st stage input, an image\n",
    "    else:\n",
    "        c1 = Add()([inputs, last]) # dimensions of inputs, last are same\n",
    "    \n",
    "    c1 = _res_conv(c1, 16, 3)\n",
    "    o1 = c1\n",
    "    p1 = pool() (c1)\n",
    "    \n",
    "    c2 = _res_conv(p1, 32, 3)\n",
    "    p2 = pool() (c2)\n",
    "\n",
    "    c3 = _res_conv(p2, 64, 3)\n",
    "    p3 = pool() (c3)\n",
    "    \n",
    "    c4 = _res_conv(p3, 128, 3)\n",
    "    p4 = pool() (c4)\n",
    "    \n",
    "    c5 = _res_conv(p4, 256, 3)\n",
    "    p5 = pool() (c5)\n",
    "    \n",
    "    c6 = _res_conv(p5, 512, 3, dropout=0.2)\n",
    "    \n",
    "    u7 = up() (c6)\n",
    "    c7 = concatenate([u7, c5])\n",
    "    c7 = _res_conv(c7, 256, 3, dropout=0.2)\n",
    "    \n",
    "    u8 = up() (c7)\n",
    "    c8 = concatenate([u8, c4])\n",
    "    c8 = _res_conv(c8, 128, 3, dropout=0.2)\n",
    "    \n",
    "    u9 = up() (c8)\n",
    "    c9 = concatenate([u9, c3])\n",
    "    c9 = _res_conv(c9, 64, 3, dropout=0.2)\n",
    "    \n",
    "    u10 = up() (c9)\n",
    "    c10 = concatenate([u10, c2])\n",
    "    c10 = _res_conv(c10, 32, 3, dropout=0.1)\n",
    "    \n",
    "    u11 = up() (c10)\n",
    "    c11 = concatenate([u11, c1])\n",
    "    c11 = _res_conv(c11, 16, 3, dropout=0.1)\n",
    "    \n",
    "    outputs = Conv2D(1, (1, 1), activation='sigmoid', name=id_+'_out') (c11)\n",
    "    return outputs, o1\n",
    "\n",
    "inputs = Input((IMG_HEIGHT, IMG_WIDTH, IMG_CHANNELS))\n",
    "out1, c = build_stage(inputs, None, 'st1')\n",
    "out2, c = build_stage(out1, c, 'st2')\n",
    "out3, c = build_stage(out2, c, 'st3')\n",
    "\n",
    "model = Model(inputs=[inputs], outputs=[out1, out2, out3])\n",
    "model.compile(loss='binary_crossentropy', metrics=[mean_iou], optimizer='adam')\n",
    "model.summary()\n"
   ]
  },
  {
   "cell_type": "markdown",
   "metadata": {
    "_cell_guid": "72330944-6ce7-4070-b276-c3c4b20c4fe5",
    "_uuid": "92350b6e18cc50f3fa7b6e9a02d39fcbff8238f7"
   },
   "source": [
    "*Update: Changed to ELU units, added dropout.*\n",
    "\n",
    "Next we fit the model on the training data, using a validation split of 0.1. We use a small batch size because we have so little data. I recommend using checkpointing and early stopping when training your model. I won't do it here to make things a bit more reproducible (although it's very likely that your results will be different anyway). I'll just train for 10 epochs, which takes around 10 minutes in the Kaggle kernel with the current parameters. \n",
    "\n",
    "*Update: Added early stopping and checkpointing and increased to 30 epochs.*"
   ]
  },
  {
   "cell_type": "code",
   "execution_count": 7,
   "metadata": {
    "_cell_guid": "9415b1c4-aa69-41b9-a1e3-d6053dbd4f64",
    "_uuid": "c060db22daa2abf12b28240cd81bbcbf1ce1bf87"
   },
   "outputs": [
    {
     "name": "stdout",
     "output_type": "stream",
     "text": [
      "Epoch 1/60\n",
      "36/37 [============================>.] - ETA: 0s - loss: 0.4923 - mean_iou: 0.4134Epoch 00001: val_loss improved from inf to 0.23090, saving model to model-dsbowl2018-1.h5\n",
      "37/37 [==============================] - 36s 974ms/step - loss: 0.4866 - mean_iou: 0.4145 - val_loss: 0.2309 - val_mean_iou: 0.4682\n",
      "Epoch 2/60\n",
      "36/37 [============================>.] - ETA: 0s - loss: 0.1965 - mean_iou: 0.5171Epoch 00002: val_loss improved from 0.23090 to 0.15969, saving model to model-dsbowl2018-1.h5\n",
      "37/37 [==============================] - 25s 681ms/step - loss: 0.1956 - mean_iou: 0.5180 - val_loss: 0.1597 - val_mean_iou: 0.5575\n",
      "Epoch 3/60\n",
      "36/37 [============================>.] - ETA: 0s - loss: 0.1468 - mean_iou: 0.5888Epoch 00003: val_loss improved from 0.15969 to 0.11484, saving model to model-dsbowl2018-1.h5\n",
      "37/37 [==============================] - 25s 680ms/step - loss: 0.1454 - mean_iou: 0.5895 - val_loss: 0.1148 - val_mean_iou: 0.6182\n",
      "Epoch 4/60\n",
      "36/37 [============================>.] - ETA: 0s - loss: 0.1190 - mean_iou: 0.6405Epoch 00004: val_loss improved from 0.11484 to 0.10293, saving model to model-dsbowl2018-1.h5\n",
      "37/37 [==============================] - 25s 675ms/step - loss: 0.1181 - mean_iou: 0.6410 - val_loss: 0.1029 - val_mean_iou: 0.6612\n",
      "Epoch 5/60\n",
      "36/37 [============================>.] - ETA: 0s - loss: 0.1177 - mean_iou: 0.6765Epoch 00005: val_loss improved from 0.10293 to 0.09154, saving model to model-dsbowl2018-1.h5\n",
      "37/37 [==============================] - 25s 680ms/step - loss: 0.1177 - mean_iou: 0.6768 - val_loss: 0.0915 - val_mean_iou: 0.6898\n",
      "Epoch 6/60\n",
      "36/37 [============================>.] - ETA: 0s - loss: 0.0990 - mean_iou: 0.7016Epoch 00006: val_loss did not improve\n",
      "37/37 [==============================] - 25s 668ms/step - loss: 0.0983 - mean_iou: 0.7019 - val_loss: 0.0953 - val_mean_iou: 0.7119\n",
      "Epoch 7/60\n",
      "36/37 [============================>.] - ETA: 0s - loss: 0.1000 - mean_iou: 0.7204Epoch 00007: val_loss improved from 0.09154 to 0.08366, saving model to model-dsbowl2018-1.h5\n",
      "37/37 [==============================] - 25s 671ms/step - loss: 0.0996 - mean_iou: 0.7206 - val_loss: 0.0837 - val_mean_iou: 0.7290\n",
      "Epoch 8/60\n",
      "36/37 [============================>.] - ETA: 0s - loss: 0.0931 - mean_iou: 0.7364Epoch 00008: val_loss improved from 0.08366 to 0.07833, saving model to model-dsbowl2018-1.h5\n",
      "37/37 [==============================] - 25s 685ms/step - loss: 0.0937 - mean_iou: 0.7365 - val_loss: 0.0783 - val_mean_iou: 0.7428\n",
      "Epoch 9/60\n",
      "36/37 [============================>.] - ETA: 0s - loss: 0.0870 - mean_iou: 0.7487Epoch 00009: val_loss did not improve\n",
      "37/37 [==============================] - 25s 663ms/step - loss: 0.0871 - mean_iou: 0.7488 - val_loss: 0.0847 - val_mean_iou: 0.7540\n",
      "Epoch 10/60\n",
      "36/37 [============================>.] - ETA: 0s - loss: 0.0860 - mean_iou: 0.7587Epoch 00010: val_loss did not improve\n",
      "37/37 [==============================] - 25s 664ms/step - loss: 0.0874 - mean_iou: 0.7588 - val_loss: 0.0793 - val_mean_iou: 0.7631\n",
      "Epoch 11/60\n",
      "36/37 [============================>.] - ETA: 0s - loss: 0.0824 - mean_iou: 0.7673Epoch 00011: val_loss improved from 0.07833 to 0.07581, saving model to model-dsbowl2018-1.h5\n",
      "37/37 [==============================] - 25s 684ms/step - loss: 0.0828 - mean_iou: 0.7674 - val_loss: 0.0758 - val_mean_iou: 0.7713\n",
      "Epoch 12/60\n",
      "36/37 [============================>.] - ETA: 0s - loss: 0.0843 - mean_iou: 0.7749Epoch 00012: val_loss did not improve\n",
      "37/37 [==============================] - 24s 657ms/step - loss: 0.0846 - mean_iou: 0.7750 - val_loss: 0.0761 - val_mean_iou: 0.7780\n",
      "Epoch 13/60\n",
      "36/37 [============================>.] - ETA: 0s - loss: 0.0874 - mean_iou: 0.7808Epoch 00013: val_loss did not improve\n",
      "37/37 [==============================] - 25s 663ms/step - loss: 0.0868 - mean_iou: 0.7809 - val_loss: 0.0782 - val_mean_iou: 0.7835\n",
      "Epoch 14/60\n",
      "36/37 [============================>.] - ETA: 0s - loss: 0.0844 - mean_iou: 0.7860Epoch 00014: val_loss improved from 0.07581 to 0.07395, saving model to model-dsbowl2018-1.h5\n",
      "37/37 [==============================] - 25s 677ms/step - loss: 0.0842 - mean_iou: 0.7861 - val_loss: 0.0739 - val_mean_iou: 0.7886\n",
      "Epoch 15/60\n",
      "36/37 [============================>.] - ETA: 0s - loss: 0.0796 - mean_iou: 0.7908Epoch 00015: val_loss improved from 0.07395 to 0.06770, saving model to model-dsbowl2018-1.h5\n",
      "37/37 [==============================] - 25s 675ms/step - loss: 0.0808 - mean_iou: 0.7909 - val_loss: 0.0677 - val_mean_iou: 0.7931\n",
      "Epoch 16/60\n",
      "36/37 [============================>.] - ETA: 0s - loss: 0.0795 - mean_iou: 0.7953Epoch 00016: val_loss did not improve\n",
      "37/37 [==============================] - 25s 668ms/step - loss: 0.0792 - mean_iou: 0.7953 - val_loss: 0.0772 - val_mean_iou: 0.7973\n",
      "Epoch 17/60\n",
      "36/37 [============================>.] - ETA: 0s - loss: 0.0831 - mean_iou: 0.7992Epoch 00017: val_loss did not improve\n",
      "37/37 [==============================] - 25s 677ms/step - loss: 0.0835 - mean_iou: 0.7992 - val_loss: 0.0755 - val_mean_iou: 0.8008\n",
      "Epoch 18/60\n",
      "36/37 [============================>.] - ETA: 0s - loss: 0.0847 - mean_iou: 0.8023Epoch 00018: val_loss improved from 0.06770 to 0.06531, saving model to model-dsbowl2018-1.h5\n",
      "37/37 [==============================] - 26s 702ms/step - loss: 0.0841 - mean_iou: 0.8023 - val_loss: 0.0653 - val_mean_iou: 0.8040\n",
      "Epoch 19/60\n",
      "36/37 [============================>.] - ETA: 0s - loss: 0.0802 - mean_iou: 0.8056Epoch 00019: val_loss did not improve\n",
      "37/37 [==============================] - 25s 671ms/step - loss: 0.0817 - mean_iou: 0.8056 - val_loss: 0.0730 - val_mean_iou: 0.8070\n",
      "Epoch 20/60\n",
      "36/37 [============================>.] - ETA: 0s - loss: 0.0795 - mean_iou: 0.8082Epoch 00020: val_loss did not improve\n",
      "37/37 [==============================] - 25s 676ms/step - loss: 0.0802 - mean_iou: 0.8082 - val_loss: 0.0759 - val_mean_iou: 0.8094\n",
      "Epoch 21/60\n",
      "36/37 [============================>.] - ETA: 0s - loss: 0.0811 - mean_iou: 0.8109Epoch 00021: val_loss did not improve\n",
      "37/37 [==============================] - 26s 694ms/step - loss: 0.0805 - mean_iou: 0.8110 - val_loss: 0.0714 - val_mean_iou: 0.8122\n",
      "Epoch 22/60\n",
      "36/37 [============================>.] - ETA: 0s - loss: 0.0795 - mean_iou: 0.8132Epoch 00022: val_loss did not improve\n",
      "37/37 [==============================] - 25s 673ms/step - loss: 0.0796 - mean_iou: 0.8132 - val_loss: 0.0696 - val_mean_iou: 0.8143\n",
      "Epoch 23/60\n",
      "36/37 [============================>.] - ETA: 0s - loss: 0.0716 - mean_iou: 0.8155Epoch 00023: val_loss improved from 0.06531 to 0.06394, saving model to model-dsbowl2018-1.h5\n",
      "37/37 [==============================] - 25s 685ms/step - loss: 0.0723 - mean_iou: 0.8155 - val_loss: 0.0639 - val_mean_iou: 0.8165\n",
      "Epoch 24/60\n",
      "36/37 [============================>.] - ETA: 0s - loss: 0.0773 - mean_iou: 0.8176Epoch 00024: val_loss did not improve\n",
      "37/37 [==============================] - 25s 670ms/step - loss: 0.0769 - mean_iou: 0.8176 - val_loss: 0.0698 - val_mean_iou: 0.8187\n",
      "Epoch 25/60\n",
      "36/37 [============================>.] - ETA: 0s - loss: 0.0763 - mean_iou: 0.8197Epoch 00025: val_loss did not improve\n",
      "37/37 [==============================] - 25s 666ms/step - loss: 0.0763 - mean_iou: 0.8197 - val_loss: 0.0701 - val_mean_iou: 0.8207\n",
      "Epoch 26/60\n",
      "36/37 [============================>.] - ETA: 0s - loss: 0.0775 - mean_iou: 0.8215Epoch 00026: val_loss did not improve\n",
      "37/37 [==============================] - 25s 673ms/step - loss: 0.0772 - mean_iou: 0.8215 - val_loss: 0.0796 - val_mean_iou: 0.8223\n",
      "Epoch 27/60\n",
      "36/37 [============================>.] - ETA: 0s - loss: 0.0817 - mean_iou: 0.8230Epoch 00027: val_loss did not improve\n",
      "37/37 [==============================] - 25s 676ms/step - loss: 0.0812 - mean_iou: 0.8230 - val_loss: 0.0657 - val_mean_iou: 0.8238\n",
      "Epoch 28/60\n",
      "36/37 [============================>.] - ETA: 0s - loss: 0.0759 - mean_iou: 0.8244Epoch 00028: val_loss did not improve\n",
      "37/37 [==============================] - 25s 668ms/step - loss: 0.0760 - mean_iou: 0.8244 - val_loss: 0.0647 - val_mean_iou: 0.8251\n",
      "Epoch 29/60\n",
      "36/37 [============================>.] - ETA: 0s - loss: 0.0741 - mean_iou: 0.8259Epoch 00029: val_loss did not improve\n",
      "37/37 [==============================] - 25s 664ms/step - loss: 0.0731 - mean_iou: 0.8259 - val_loss: 0.0670 - val_mean_iou: 0.8268\n"
     ]
    },
    {
     "name": "stdout",
     "output_type": "stream",
     "text": [
      "Epoch 30/60\n",
      "36/37 [============================>.] - ETA: 0s - loss: 0.0740 - mean_iou: 0.8274Epoch 00030: val_loss did not improve\n",
      "37/37 [==============================] - 24s 658ms/step - loss: 0.0744 - mean_iou: 0.8275 - val_loss: 0.0667 - val_mean_iou: 0.8281\n",
      "Epoch 00030: early stopping\n"
     ]
    }
   ],
   "source": [
    "from keras.preprocessing.image import ImageDataGenerator\n",
    "import cv2\n",
    "\n",
    "from sklearn.utils import shuffle\n",
    "def data_generator(data, label, batch_size=4):\n",
    "    index = 0\n",
    "    dat_que = np.empty((batch_size, IMG_HEIGHT, IMG_WIDTH, IMG_CHANNELS), dtype=np.uint8)\n",
    "    lab_que = np.empty((batch_size, IMG_HEIGHT, IMG_WIDTH, 1), dtype=np.bool)\n",
    "    while True:\n",
    "        img = data[index%len(data)] # [0,255]\n",
    "        lab = ((label[index%len(data)]).astype(np.float32)*255).astype(np.uint8)\n",
    "        lab = np.reshape(lab, (IMG_HEIGHT, IMG_WIDTH))\n",
    "        if np.random.rand() < .5: # flip vertical\n",
    "            img = np.flip(img, 0)\n",
    "            lab = np.flip(lab, 0)\n",
    "        if np.random.rand() < .5: # flip horizontal\n",
    "            img = np.flip(img, 1)\n",
    "            lab = np.flip(lab, 1)\n",
    "            \n",
    "        # rotation\n",
    "        if np.random.rand() < 0.5:\n",
    "            y, x, _ = img.shape\n",
    "            h, w = y, x\n",
    "            img = cv2.copyMakeBorder(img, y//2, y//2, x//2, x//2, cv2.BORDER_REFLECT)\n",
    "            lab = cv2.copyMakeBorder(lab, y//2, y//2, x//2, x//2, cv2.BORDER_REFLECT)\n",
    "            y, x, _ = img.shape\n",
    "            rotT = np.random.uniform(-15,15)\n",
    "            M = cv2.getRotationMatrix2D((x/2, y/2), rotT, 1)\n",
    "            img = cv2.warpAffine(img, M, (x, y))\n",
    "            lab = cv2.warpAffine(lab, M, (x, y))\n",
    "            img = img[h//2:h//2+h,w//2:w//2+w,:]\n",
    "            lab = lab[h//2:h//2+h,w//2:w//2+w]\n",
    "            \n",
    "        img = img.astype(np.float32) / 255. # normalize\n",
    "            \n",
    "        # random amplify each channel\n",
    "        a = .1 # amptitude\n",
    "        t  = [np.random.uniform(-a,a)]\n",
    "        t += [np.random.uniform(-a,a)]\n",
    "        t += [np.random.uniform(-a,a)]\n",
    "        t = np.array(t)\n",
    "\n",
    "        img = img * (1. + t) # channel wise amplify\n",
    "        up = np.random.uniform(0.95, 1.05) # change gamma\n",
    "        img = img**up * 255. # apply gamma and convert back to range [0,255]\n",
    "        img = img.astype(np.uint8) # convert back to uint8\n",
    "        \n",
    "        assert img.dtype == np.uint8 ## check type\n",
    "        assert lab.dtype == np.uint8\n",
    "        \n",
    "        lab[lab<127] = 0\n",
    "        lab[lab>0] = 1\n",
    "        #### End of data augmentation ####\n",
    "        \n",
    "        dat_que[index%batch_size,:,:,:] = img\n",
    "        lab_que[index%batch_size,:,:,0] = lab\n",
    "        index = index + 1\n",
    "        if index%batch_size==0:\n",
    "            index = 0 if index%len(data)==0 else index\n",
    "            yield (dat_que, [lab_que, lab_que, lab_que])\n",
    "        if index%len(data)==0:\n",
    "            data, label = shuffle(data, label)\n",
    "\n",
    "data_augmentation_args = {\n",
    "    'featurewise_center': False,\n",
    "    'samplewise_center': False,\n",
    "    'featurewise_std_normalization': False,\n",
    "    'samplewise_std_normalization': False,\n",
    "    'zca_whitening': False,\n",
    "    'channel_shift_range': 0.04,\n",
    "    'cval': 0.,\n",
    "    'horizontal_flip': False,\n",
    "    'vertical_flip': False\n",
    "}\n",
    "\n",
    "#train_data_generator = ImageDataGenerator(**data_augmentation_args)\n",
    "valid_data_generator = ImageDataGenerator()\n",
    "\n",
    "from sklearn.model_selection import train_test_split\n",
    "\n",
    "X_train, X_val, Y_train, Y_val = train_test_split(X_train, Y_train, test_size=0.1, shuffle=True)\n",
    "\n",
    "#train_data_generator.fit(X_train)\n",
    "valid_data_generator.fit(X_val)\n",
    "\n",
    "# Fit model\n",
    "BS=16\n",
    "EPOCHS=100\n",
    "earlystopper = EarlyStopping(patience=7, verbose=1)\n",
    "checkpointer = ModelCheckpoint('model-dsbowl2018-1.h5', verbose=1, save_best_only=True)\n",
    "history = model.fit_generator(#train_data_generator.flow(X_train, Y_train, batch_size=BS),\n",
    "                              data_generator(X_train, Y_train, batch_size=BS),\n",
    "                              steps_per_epoch=len(X_train) // BS , epochs=EPOCHS, \n",
    "                              validation_data=valid_data_generator.flow(X_val, [Y_val,Y_val,Y_val], batch_size=16), \n",
    "                              validation_steps=len(X_val) // BS,\n",
    "                    callbacks=[earlystopper, checkpointer])"
   ]
  },
  {
   "cell_type": "code",
   "execution_count": 8,
   "metadata": {},
   "outputs": [
    {
     "data": {
      "image/png": "[encoded data removed]",
      "text/plain": [
       "<matplotlib.figure.Figure at 0x7f4a61816cc0>"
      ]
     },
     "metadata": {},
     "output_type": "display_data"
    }
   ],
   "source": [
    "plt.plot(history.history['st3_out_mean_iou'])\n",
    "plt.plot(history.history['val_st3_out_mean_iou'])\n",
    "plt.title('model mean_iou')\n",
    "plt.ylabel('mean_iou')\n",
    "plt.xlabel('epoch')\n",
    "plt.legend(['train','valid'], loc='upper left')\n",
    "plt.show()"
   ]
  },
  {
   "cell_type": "code",
   "execution_count": 9,
   "metadata": {},
   "outputs": [
    {
     "data": {
      "image/png": "[encoded data removed]",
      "text/plain": [
       "<matplotlib.figure.Figure at 0x7f4a61816cf8>"
      ]
     },
     "metadata": {},
     "output_type": "display_data"
    }
   ],
   "source": [
    "plt.plot(history.history['loss'])\n",
    "plt.plot(history.history['val_loss'])\n",
    "plt.title('model loss')\n",
    "plt.ylabel('loss')\n",
    "plt.xlabel('epoch')\n",
    "plt.legend(['train','valid'], loc='upper right')\n",
    "plt.show()"
   ]
  },
  {
   "cell_type": "markdown",
   "metadata": {
    "_cell_guid": "1f381f5b-1b71-4daa-a417-e02f4894540b",
    "_uuid": "bb15226ea617cf91ed8f43179fccb5a15809e5a0"
   },
   "source": [
    "All right, looks good! Loss seems to be a bit erratic, though. I'll leave it to you to improve the model architecture and parameters! \n",
    "\n",
    "# Make predictions\n",
    "\n",
    "Let's make predictions both on the test set, the val set and the train set (as a sanity check). Remember to load the best saved model if you've used early stopping and checkpointing."
   ]
  },
  {
   "cell_type": "code",
   "execution_count": 10,
   "metadata": {
    "_cell_guid": "2daa48d5-ac98-4e18-af3f-a582baaa44f0",
    "_uuid": "f841760b4abca1a25cb750822f88268bd79bf2ce"
   },
   "outputs": [
    {
     "name": "stdout",
     "output_type": "stream",
     "text": [
      "542/542 [==============================] - 5s 8ms/step\n",
      "61/61 [==============================] - 1s 8ms/step\n",
      "65/65 [==============================] - 0s 8ms/step\n"
     ]
    }
   ],
   "source": [
    "# Predict on train, val and test\n",
    "model = load_model('model-dsbowl2018-1.h5', custom_objects={'mean_iou': mean_iou})\n",
    "preds_train = model.predict(X_train[:int(X_train.shape[0]*0.9)], verbose=1)[-1]\n",
    "preds_val = model.predict(X_train[int(X_train.shape[0]*0.9):], verbose=1)[-1]\n",
    "preds_test = model.predict(X_test, verbose=1)[-1]\n",
    "\n",
    "# Threshold predictions\n",
    "preds_train_t = (preds_train > 0.5).astype(np.uint8)\n",
    "preds_val_t = (preds_val > 0.5).astype(np.uint8)\n",
    "preds_test_t = (preds_test > 0.5).astype(np.uint8)\n",
    "\n",
    "# Create list of upsampled test masks\n",
    "preds_test_upsampled = []\n",
    "for i in range(len(preds_test)):\n",
    "    preds_test_upsampled.append(resize(np.squeeze(preds_test[i]), \n",
    "                                       (sizes_test[i][0], sizes_test[i][1]), \n",
    "                                       mode='constant', preserve_range=True))"
   ]
  },
  {
   "cell_type": "code",
   "execution_count": 11,
   "metadata": {
    "_cell_guid": "649248cd-a1fb-4da6-ade2-4bebad44bcab",
    "_uuid": "7e06242a50870e07a080064a4912b761775990fa"
   },
   "outputs": [
    {
     "name": "stderr",
     "output_type": "stream",
     "text": [
      "/home/peter/virtual_envs/tf_keras/lib/python3.5/site-packages/skimage/io/_plugins/matplotlib_plugin.py:51: FutureWarning: Conversion of the second argument of issubdtype from `float` to `np.floating` is deprecated. In future, it will be treated as `np.float64 == np.dtype(float).type`.\n",
      "  out_of_range_float = (np.issubdtype(image.dtype, np.float) and\n"
     ]
    },
    {
     "data": {
      "image/png": "[encoded data removed]",
      "text/plain": [
       "<matplotlib.figure.Figure at 0x7f4a12f33fd0>"
      ]
     },
     "metadata": {},
     "output_type": "display_data"
    },
    {
     "data": {
      "image/png": "[encoded data removed]",
      "text/plain": [
       "<matplotlib.figure.Figure at 0x7f4a129e8da0>"
      ]
     },
     "metadata": {},
     "output_type": "display_data"
    },
    {
     "data": {
      "image/png": "[encoded data removed]",
      "text/plain": [
       "<matplotlib.figure.Figure at 0x7f49e6fe4eb8>"
      ]
     },
     "metadata": {},
     "output_type": "display_data"
    }
   ],
   "source": [
    "# Perform a sanity check on some random training samples\n",
    "ix = random.randint(0, len(preds_train_t))\n",
    "imshow(X_train[ix])\n",
    "plt.show()\n",
    "imshow(np.squeeze(Y_train[ix]))\n",
    "plt.show()\n",
    "imshow(np.squeeze(preds_train_t[ix]))\n",
    "plt.show()"
   ]
  },
  {
   "cell_type": "markdown",
   "metadata": {
    "_cell_guid": "af602aea-5e56-42a8-9331-54b4b2650593",
    "_uuid": "5fcee2b9aee2fba5c60d43ad48a14139e9c1318c"
   },
   "source": [
    "The model is at least able to fit to the training data! Certainly a lot of room for improvement even here, but a decent start. How about the validation data?"
   ]
  },
  {
   "cell_type": "code",
   "execution_count": 12,
   "metadata": {
    "_cell_guid": "4f66b75c-c694-41a1-8c91-34bb6595837b",
    "_uuid": "d4ccbb559375bc2777ffb692a20adc313159f2cc"
   },
   "outputs": [
    {
     "name": "stderr",
     "output_type": "stream",
     "text": [
      "/home/peter/virtual_envs/tf_keras/lib/python3.5/site-packages/skimage/io/_plugins/matplotlib_plugin.py:51: FutureWarning: Conversion of the second argument of issubdtype from `float` to `np.floating` is deprecated. In future, it will be treated as `np.float64 == np.dtype(float).type`.\n",
      "  out_of_range_float = (np.issubdtype(image.dtype, np.float) and\n"
     ]
    },
    {
     "data": {
      "image/png": "[encoded data removed]",
      "text/plain": [
       "<matplotlib.figure.Figure at 0x7f49e6f7df28>"
      ]
     },
     "metadata": {},
     "output_type": "display_data"
    },
    {
     "data": {
      "image/png": "[encoded data removed]",
      "text/plain": [
       "<matplotlib.figure.Figure at 0x7f49d150e2b0>"
      ]
     },
     "metadata": {},
     "output_type": "display_data"
    },
    {
     "data": {
      "image/png": "[encoded data removed]",
      "text/plain": [
       "<matplotlib.figure.Figure at 0x7f49d14a6ba8>"
      ]
     },
     "metadata": {},
     "output_type": "display_data"
    }
   ],
   "source": [
    "# Perform a sanity check on some random validation samples\n",
    "ix = random.randint(0, len(preds_val_t))\n",
    "imshow(X_train[int(X_train.shape[0]*0.9):][ix])\n",
    "plt.show()\n",
    "imshow(np.squeeze(Y_train[int(Y_train.shape[0]*0.9):][ix]))\n",
    "plt.show()\n",
    "imshow(np.squeeze(preds_val_t[ix]))\n",
    "plt.show()"
   ]
  },
  {
   "cell_type": "markdown",
   "metadata": {
    "_cell_guid": "a6690535-b2e4-49ac-98d9-7191bfabfb6f",
    "_uuid": "6a34c98de7c6ae473f676a34fe7e099b46764eca"
   },
   "source": [
    "Not too shabby! Definitely needs some more training and tweaking.\n",
    "\n",
    "# Encode and submit our results\n",
    "\n",
    "Now it's time to submit our results. I've stolen [this](https://www.kaggle.com/rakhlin/fast-run-length-encoding-python) excellent implementation of run-length encoding."
   ]
  },
  {
   "cell_type": "code",
   "execution_count": 13,
   "metadata": {
    "_cell_guid": "59a0af60-a7d7-41ef-a6fe-9e3c72defa07",
    "_uuid": "4f99c1bf852e82b60bd4f982ca0df293f712cdf0"
   },
   "outputs": [],
   "source": [
    "# Run-length encoding stolen from https://www.kaggle.com/rakhlin/fast-run-length-encoding-python\n",
    "def rle_encoding(x):\n",
    "    dots = np.where(x.T.flatten() == 1)[0]\n",
    "    run_lengths = []\n",
    "    prev = -2\n",
    "    for b in dots:\n",
    "        if (b>prev+1): run_lengths.extend((b + 1, 0))\n",
    "        run_lengths[-1] += 1\n",
    "        prev = b\n",
    "    return run_lengths\n",
    "\n",
    "def prob_to_rles(x, cutoff=0.5):\n",
    "    lab_img = label(x > cutoff)\n",
    "    for i in range(1, lab_img.max() + 1):\n",
    "        yield rle_encoding(lab_img == i)"
   ]
  },
  {
   "cell_type": "markdown",
   "metadata": {
    "_cell_guid": "31133f8c-3f40-4dff-8e1d-898d56672332",
    "_uuid": "2e07f6afc4787b068ba714428145dcb3951d718f"
   },
   "source": [
    "Let's iterate over the test IDs and generate run-length encodings for each seperate mask identified by skimage ..."
   ]
  },
  {
   "cell_type": "code",
   "execution_count": 14,
   "metadata": {
    "_cell_guid": "22fe24a1-7659-4cc9-9d23-211f38e5b99f",
    "_uuid": "089587843ed6a3955fdcb9b23a6ec3bf5d703688"
   },
   "outputs": [],
   "source": [
    "new_test_ids = []\n",
    "rles = []\n",
    "for n, id_ in enumerate(test_ids):\n",
    "    rle = list(prob_to_rles(preds_test_upsampled[n]))\n",
    "    rles.extend(rle)\n",
    "    new_test_ids.extend([id_] * len(rle))"
   ]
  },
  {
   "cell_type": "markdown",
   "metadata": {
    "_cell_guid": "20b6b627-0fd6-425d-888f-da7f39efb124",
    "_uuid": "849184a40a2c9c21506d8b8eb10ad9155fa229e8"
   },
   "source": [
    "... and then finally create our submission!"
   ]
  },
  {
   "cell_type": "code",
   "execution_count": 15,
   "metadata": {
    "_cell_guid": "1ba0ee3a-cca0-4349-83f6-09a1ac6fcb44",
    "_uuid": "ba589f56f5be1e6886bc88f5bf9e7d0a408e4048"
   },
   "outputs": [],
   "source": [
    "# Create submission DataFrame\n",
    "sub = pd.DataFrame()\n",
    "sub['ImageId'] = new_test_ids\n",
    "sub['EncodedPixels'] = pd.Series(rles).apply(lambda x: ' '.join(str(y) for y in x))\n",
    "sub.to_csv('sub-dsbowl2018-1.csv', index=False)"
   ]
  },
  {
   "cell_type": "markdown",
   "metadata": {
    "_cell_guid": "222475b9-3171-461a-90f0-a820a6bd2634",
    "_uuid": "fb5e6f8cca872f1bd7036f6d9ac2ed2cab615536",
    "collapsed": true
   },
   "source": [
    "This scored 0.233 on the LB for me. That was with version 2 of this notebook; be aware that the results from the neural network are extremely erratic and vary greatly from run to run (version 3 is significantly worse, for example). Version 7 scores 0.277!\n",
    "\n",
    "You should easily be able to stabilize and improve the results just by changing a few parameters, tweaking the architecture a little bit and training longer with early stopping.\n",
    "\n",
    "**Have fun!**\n",
    "\n",
    "LB score history:\n",
    "- Version 7: 0.277 LB"
   ]
  },
  {
   "cell_type": "code",
   "execution_count": null,
   "metadata": {
    "_cell_guid": "3f5e5a47-6133-4870-976a-a8e4fa7bf46c",
    "_uuid": "2a83eab66bf55194f300953bea5534b6a043130f",
    "collapsed": true
   },
   "outputs": [],
   "source": []
  }
 ],
 "metadata": {
  "kernelspec": {
   "display_name": "Python 3",
   "language": "python",
   "name": "python3"
  },
  "language_info": {
   "codemirror_mode": {
    "name": "ipython",
    "version": 3
   },
   "file_extension": ".py",
   "mimetype": "text/x-python",
   "name": "python",
   "nbconvert_exporter": "python",
   "pygments_lexer": "ipython3",
   "version": "3.5.2"
  }
 },
 "nbformat": 4,
 "nbformat_minor": 1
}
